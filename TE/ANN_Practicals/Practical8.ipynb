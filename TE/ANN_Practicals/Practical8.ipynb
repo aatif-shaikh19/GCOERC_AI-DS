{
 "cells": [
  {
   "cell_type": "code",
   "execution_count": 1,
   "id": "7726b21b-98b0-4c17-8f33-89c113dd43d5",
   "metadata": {},
   "outputs": [],
   "source": [
    "# Cell 1: Imports and helper functions\n",
    "\n",
    "import numpy as np\n",
    "\n",
    "def sigmoid(x):\n",
    "    \"\"\"Sigmoid activation.\"\"\"\n",
    "    return 1 / (1 + np.exp(-x))\n",
    "\n",
    "def sigmoid_derivative(x):\n",
    "    \"\"\"Derivative of sigmoid assuming x = sigmoid(z).\"\"\"\n",
    "    return x * (1 - x)\n"
   ]
  },
  {
   "cell_type": "code",
   "execution_count": 2,
   "id": "dfc92323-a220-4883-bf43-dfe6e7357bbd",
   "metadata": {},
   "outputs": [],
   "source": [
    "# Cell 2: Define the network class\n",
    "\n",
    "class NeuralNetwork:\n",
    "    def __init__(self, input_size, hidden_size, output_size, seed=42):\n",
    "        np.random.seed(seed)\n",
    "        # Xavier initialization\n",
    "        self.W1 = np.random.randn(input_size, hidden_size) * np.sqrt(1/input_size)\n",
    "        self.b1 = np.zeros((1, hidden_size))\n",
    "        self.W2 = np.random.randn(hidden_size, output_size) * np.sqrt(1/hidden_size)\n",
    "        self.b2 = np.zeros((1, output_size))\n",
    "\n",
    "    def forward(self, X):\n",
    "        # Hidden layer\n",
    "        self.z1 = X.dot(self.W1) + self.b1\n",
    "        self.a1 = sigmoid(self.z1)\n",
    "        # Output layer\n",
    "        self.z2 = self.a1.dot(self.W2) + self.b2\n",
    "        self.a2 = sigmoid(self.z2)\n",
    "        return self.a2\n",
    "\n",
    "    def backward(self, X, y, output, lr):\n",
    "        # Output error\n",
    "        error2 = y - output\n",
    "        delta2 = error2 * sigmoid_derivative(output)\n",
    "        # Hidden error\n",
    "        error1 = delta2.dot(self.W2.T)\n",
    "        delta1 = error1 * sigmoid_derivative(self.a1)\n",
    "        # Update weights/biases\n",
    "        self.W2 += self.a1.T.dot(delta2) * lr\n",
    "        self.b2 += np.sum(delta2, axis=0, keepdims=True) * lr\n",
    "        self.W1 += X.T.dot(delta1) * lr\n",
    "        self.b1 += np.sum(delta1, axis=0, keepdims=True) * lr\n",
    "\n",
    "    def train(self, X, y, epochs=10000, lr=0.1, print_every=1000):\n",
    "        for i in range(1, epochs+1):\n",
    "            out = self.forward(X)\n",
    "            self.backward(X, y, out, lr)\n",
    "            if i % print_every == 0 or i == 1:\n",
    "                loss = np.mean((y - out)**2)\n",
    "                print(f\"Epoch {i}/{epochs}, MSE={loss:.4f}\")\n",
    "\n",
    "    def predict(self, X):\n",
    "        \"\"\"Return binary outputs (0/1) based on 0.5 threshold.\"\"\"\n",
    "        probs = self.forward(X)\n",
    "        return (probs >= 0.5).astype(int)\n"
   ]
  },
  {
   "cell_type": "code",
   "execution_count": 3,
   "id": "41cf062b-5344-4c34-8826-39a89afe72dc",
   "metadata": {},
   "outputs": [
    {
     "name": "stdout",
     "output_type": "stream",
     "text": [
      "Epoch 1/5000, MSE=0.2574\n",
      "Epoch 1000/5000, MSE=0.2491\n",
      "Epoch 2000/5000, MSE=0.2429\n",
      "Epoch 3000/5000, MSE=0.2051\n",
      "Epoch 4000/5000, MSE=0.1337\n",
      "Epoch 5000/5000, MSE=0.0428\n"
     ]
    }
   ],
   "source": [
    "# Cell 3: Prepare the XOR dataset and train\n",
    "\n",
    "# Inputs and labels for XOR\n",
    "X = np.array([[0,0],\n",
    "              [0,1],\n",
    "              [1,0],\n",
    "              [1,1]])\n",
    "y = np.array([[0],\n",
    "              [1],\n",
    "              [1],\n",
    "              [0]])\n",
    "\n",
    "# Instantiate and train\n",
    "nn = NeuralNetwork(input_size=2, hidden_size=4, output_size=1)\n",
    "nn.train(X, y, epochs=5000, lr=0.1, print_every=1000)\n"
   ]
  },
  {
   "cell_type": "code",
   "execution_count": 4,
   "id": "5bd9b663-0046-4447-b448-9761b1817f74",
   "metadata": {},
   "outputs": [
    {
     "name": "stdout",
     "output_type": "stream",
     "text": [
      "Input:\n",
      " [[0 0]\n",
      " [0 1]\n",
      " [1 0]\n",
      " [1 1]]\n",
      "Predicted:\n",
      " [0 1 1 0]\n",
      "Expected:\n",
      " [0 1 1 0]\n"
     ]
    }
   ],
   "source": [
    "# Cell 4: Test the trained network\n",
    "\n",
    "preds = nn.predict(X)\n",
    "print(\"Input:\\n\", X)\n",
    "print(\"Predicted:\\n\", preds.flatten())\n",
    "print(\"Expected:\\n\", y.flatten())\n"
   ]
  },
  {
   "cell_type": "code",
   "execution_count": null,
   "id": "8e5c59da-b71f-4d04-84e9-4e52440eb97e",
   "metadata": {},
   "outputs": [],
   "source": []
  }
 ],
 "metadata": {
  "kernelspec": {
   "display_name": "Python 3 (ipykernel)",
   "language": "python",
   "name": "python3"
  },
  "language_info": {
   "codemirror_mode": {
    "name": "ipython",
    "version": 3
   },
   "file_extension": ".py",
   "mimetype": "text/x-python",
   "name": "python",
   "nbconvert_exporter": "python",
   "pygments_lexer": "ipython3",
   "version": "3.12.10"
  }
 },
 "nbformat": 4,
 "nbformat_minor": 5
}
