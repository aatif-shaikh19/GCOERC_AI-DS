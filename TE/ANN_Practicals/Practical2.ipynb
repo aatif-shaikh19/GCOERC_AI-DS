{
 "cells": [
  {
   "cell_type": "code",
   "execution_count": 1,
   "id": "a4d68fa0-56a3-4589-af87-8da1dcedf001",
   "metadata": {},
   "outputs": [],
   "source": [
    "import numpy as np"
   ]
  },
  {
   "cell_type": "code",
   "execution_count": 2,
   "id": "fb7de0c8-0e5f-4bbe-8875-6ccb1fd227fa",
   "metadata": {},
   "outputs": [
    {
     "name": "stdout",
     "output_type": "stream",
     "text": [
      " x1  x2  →  AND-NOT\n",
      "  0    0     →     0\n",
      "  0    1     →     0\n",
      "  1    0     →     1\n",
      "  1    1     →     0\n"
     ]
    }
   ],
   "source": [
    "# McCulloch–Pitts linear threshold gate\n",
    "def linear_threshold_gate(dot, T):\n",
    "    \"\"\"Returns 1 if dot ≥ T, else 0.\"\"\"\n",
    "    return 1 if dot >= T else 0\n",
    "\n",
    "# Truth table inputs for AND-NOT (x1 AND NOT x2)\n",
    "input_table = np.array([\n",
    "    [0, 0],  # 0 AND NOT 0  → 0\n",
    "    [0, 1],  # 0 AND NOT 1  → 0\n",
    "    [1, 0],  # 1 AND NOT 0  → 1\n",
    "    [1, 1]   # 1 AND NOT 1  → 0\n",
    "])\n",
    "\n",
    "# Weights and threshold that implement AND-NOT\n",
    "weights = np.array([1, -1])\n",
    "T = 1\n",
    "\n",
    "print(\" x1  x2  →  AND-NOT\")\n",
    "for x in input_table:\n",
    "    y = linear_threshold_gate(np.dot(x, weights), T)\n",
    "    print(f\"  {x[0]}    {x[1]}     →     {y}\")\n"
   ]
  },
  {
   "cell_type": "code",
   "execution_count": null,
   "id": "367462ab-d7ea-4745-b2e9-5bdbab3cdb83",
   "metadata": {},
   "outputs": [],
   "source": []
  }
 ],
 "metadata": {
  "kernelspec": {
   "display_name": "Python 3 (ipykernel)",
   "language": "python",
   "name": "python3"
  },
  "language_info": {
   "codemirror_mode": {
    "name": "ipython",
    "version": 3
   },
   "file_extension": ".py",
   "mimetype": "text/x-python",
   "name": "python",
   "nbconvert_exporter": "python",
   "pygments_lexer": "ipython3",
   "version": "3.12.10"
  }
 },
 "nbformat": 4,
 "nbformat_minor": 5
}
