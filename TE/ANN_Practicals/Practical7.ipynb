{
 "cells": [
  {
   "cell_type": "code",
   "execution_count": 1,
   "id": "bdaa2869-cb0d-4a80-acf2-88290d156bd9",
   "metadata": {},
   "outputs": [],
   "source": [
    "# Cell 1: Imports and ART1 class definition\n",
    "\n",
    "import numpy as np\n",
    "\n",
    "class ART1:\n",
    "    \"\"\"\n",
    "    Simple binary ART1 network using prototype intersection learning.\n",
    "    \"\"\"\n",
    "    def __init__(self, vigilance=0.8):\n",
    "        \"\"\"\n",
    "        vigilance: match threshold (0 < vigilance ≤ 1)\n",
    "        \"\"\"\n",
    "        self.vigilance = vigilance\n",
    "        self.prototypes = []\n",
    "\n",
    "    def train(self, patterns):\n",
    "        \"\"\"\n",
    "        Train on a set of binary patterns (2D numpy array).\n",
    "        Returns a list of category assignments, one per pattern.\n",
    "        \"\"\"\n",
    "        assignments = []\n",
    "        for p in patterns:\n",
    "            assigned = False\n",
    "            for idx, proto in enumerate(self.prototypes):\n",
    "                # Compute match: |p ∧ proto| / |p|\n",
    "                match = np.sum(p & proto) / (np.sum(p) + 1e-10)\n",
    "                if match >= self.vigilance:\n",
    "                    # Update prototype by intersection\n",
    "                    self.prototypes[idx] = proto & p\n",
    "                    assignments.append(idx)\n",
    "                    assigned = True\n",
    "                    break\n",
    "            if not assigned:\n",
    "                # Create new category\n",
    "                self.prototypes.append(p.copy())\n",
    "                assignments.append(len(self.prototypes) - 1)\n",
    "        return assignments\n",
    "\n",
    "    def predict(self, patterns):\n",
    "        \"\"\"\n",
    "        Assign patterns to existing prototypes (no learning).\n",
    "        Returns a list of category indices or None if no match.\n",
    "        \"\"\"\n",
    "        preds = []\n",
    "        for p in patterns:\n",
    "            found = False\n",
    "            for idx, proto in enumerate(self.prototypes):\n",
    "                match = np.sum(p & proto) / (np.sum(p) + 1e-10)\n",
    "                if match >= self.vigilance:\n",
    "                    preds.append(idx)\n",
    "                    found = True\n",
    "                    break\n",
    "            if not found:\n",
    "                preds.append(None)\n",
    "        return preds\n"
   ]
  },
  {
   "cell_type": "code",
   "execution_count": 2,
   "id": "ed306eed-44f4-467c-8e0c-8ab124b9dddc",
   "metadata": {},
   "outputs": [],
   "source": [
    "# Cell 2: Define binary patterns and instantiate the network\n",
    "\n",
    "# Example binary patterns (rows are patterns)\n",
    "patterns = np.array([\n",
    "    [1, 1, 0, 0, 1],\n",
    "    [1, 1, 0, 1, 0],\n",
    "    [0, 0, 1, 1, 1],\n",
    "    [0, 0, 1, 0, 1],\n",
    "    [1, 0, 1, 0, 0]\n",
    "])\n",
    "\n",
    "# Set vigilance parameter (e.g. 0.6)\n",
    "art = ART1(vigilance=0.6)\n"
   ]
  },
  {
   "cell_type": "code",
   "execution_count": 3,
   "id": "612a0a50-b6f4-451b-8dc9-29b542d528d9",
   "metadata": {},
   "outputs": [
    {
     "name": "stdout",
     "output_type": "stream",
     "text": [
      "Pattern assignments during training:\n",
      " Pattern 0 → Category 0\n",
      " Pattern 1 → Category 0\n",
      " Pattern 2 → Category 1\n",
      " Pattern 3 → Category 1\n",
      " Pattern 4 → Category 2\n"
     ]
    }
   ],
   "source": [
    "# Cell 3: Train the ART1 network and display assignments\n",
    "\n",
    "assignments = art.train(patterns)\n",
    "print(\"Pattern assignments during training:\")\n",
    "for i, cat in enumerate(assignments):\n",
    "    print(f\" Pattern {i} → Category {cat}\")\n"
   ]
  },
  {
   "cell_type": "code",
   "execution_count": 4,
   "id": "74259fd5-d4c1-4eee-a6fd-41801fb6b60b",
   "metadata": {},
   "outputs": [
    {
     "name": "stdout",
     "output_type": "stream",
     "text": [
      "\n",
      "Learned category prototypes (after training):\n",
      " Category 0 prototype: [1 1 0 0 0]\n",
      " Category 1 prototype: [0 0 1 0 1]\n",
      " Category 2 prototype: [1 0 1 0 0]\n"
     ]
    }
   ],
   "source": [
    "# Cell 4: Show learned prototypes\n",
    "\n",
    "print(\"\\nLearned category prototypes (after training):\")\n",
    "for idx, proto in enumerate(art.prototypes):\n",
    "    print(f\" Category {idx} prototype:\", proto)\n"
   ]
  },
  {
   "cell_type": "code",
   "execution_count": 5,
   "id": "1f4d162f-54eb-4e52-aa18-a391a93588af",
   "metadata": {},
   "outputs": [
    {
     "name": "stdout",
     "output_type": "stream",
     "text": [
      "\n",
      "Predictions on new patterns:\n",
      " New pattern 0 → Category 0\n",
      " New pattern 1 → Category None\n",
      " New pattern 2 → Category None\n"
     ]
    }
   ],
   "source": [
    "# Cell 5: Classify new patterns without updating\n",
    "\n",
    "new_patterns = np.array([\n",
    "    [1, 1, 0, 0, 0],  # similar to category 0\n",
    "    [0, 0, 1, 1, 0],  # similar to category 1 or 2\n",
    "    [1, 0, 0, 0, 1],  # may form new category\n",
    "])\n",
    "\n",
    "preds = art.predict(new_patterns)\n",
    "print(\"\\nPredictions on new patterns:\")\n",
    "for i, p in enumerate(preds):\n",
    "    print(f\" New pattern {i} → Category {p}\")\n"
   ]
  },
  {
   "cell_type": "code",
   "execution_count": null,
   "id": "a6902f8b-2a4c-43c7-a19b-4a5f1cbe7c08",
   "metadata": {},
   "outputs": [],
   "source": []
  }
 ],
 "metadata": {
  "kernelspec": {
   "display_name": "Python 3 (ipykernel)",
   "language": "python",
   "name": "python3"
  },
  "language_info": {
   "codemirror_mode": {
    "name": "ipython",
    "version": 3
   },
   "file_extension": ".py",
   "mimetype": "text/x-python",
   "name": "python",
   "nbconvert_exporter": "python",
   "pygments_lexer": "ipython3",
   "version": "3.12.10"
  }
 },
 "nbformat": 4,
 "nbformat_minor": 5
}
