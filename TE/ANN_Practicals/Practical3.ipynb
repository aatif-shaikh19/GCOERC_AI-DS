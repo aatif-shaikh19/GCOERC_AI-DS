{
 "cells": [
  {
   "cell_type": "code",
   "execution_count": 1,
   "id": "ca7819b2-6f65-4c77-b360-a20b992ee8cf",
   "metadata": {},
   "outputs": [],
   "source": [
    "import numpy as np"
   ]
  },
  {
   "cell_type": "code",
   "execution_count": 2,
   "id": "c19765e1-817c-4295-81b3-c032e6ca7256",
   "metadata": {},
   "outputs": [
    {
     "name": "stdout",
     "output_type": "stream",
     "text": [
      "[0 0 0 0 0 0 1 0 0 0] → even\n",
      "[0 0 0 0 0 0 0 1 0 0] → odd\n",
      "[0 0 0 0 0 0 0 0 1 0] → even\n",
      "[0 0 0 0 0 0 0 0 0 1] → odd\n",
      "[0 0 0 0 0 0 1 1 0 0] → even\n",
      "[0 0 0 0 0 0 1 0 1 0] → even\n",
      "[0 0 0 0 0 0 1 1 1 0] → even\n",
      "[0 0 0 0 0 0 1 1 1 1] → even\n",
      "[0 0 0 0 0 0 1 0 1 1] → even\n",
      "[0 0 0 0 0 0 0 1 1 1] → odd\n"
     ]
    }
   ],
   "source": [
    "class Perceptron:\n",
    "    def __init__(self, input_size, lr=0.1):\n",
    "        # +1 for the bias weight\n",
    "        self.W = np.zeros(input_size + 1)\n",
    "        self.lr = lr\n",
    "\n",
    "    def activation_fn(self, x):\n",
    "        return 1 if x >= 0 else 0\n",
    "\n",
    "    def predict(self, x):\n",
    "        # insert bias input of 1\n",
    "        x = np.insert(x, 0, 1)\n",
    "        z = self.W.T.dot(x)\n",
    "        return self.activation_fn(z)\n",
    "\n",
    "    def train(self, X, Y, epochs):\n",
    "        for _ in range(epochs):\n",
    "            for i in range(Y.shape[0]):\n",
    "                x = X[i]\n",
    "                y_pred = self.predict(x)\n",
    "                e = Y[i] - y_pred\n",
    "                # update rule\n",
    "                self.W += self.lr * e * np.insert(x, 0, 1)\n",
    "\n",
    "# ASCII‐encoded inputs for digits 0–9\n",
    "X = np.array([\n",
    "    [0,0,0,0,0,0,1,0,0,0],  # '0'\n",
    "    [0,0,0,0,0,0,0,1,0,0],  # '1'\n",
    "    [0,0,0,0,0,0,0,0,1,0],  # '2'\n",
    "    [0,0,0,0,0,0,0,0,0,1],  # '3'\n",
    "    [0,0,0,0,0,0,1,1,0,0],  # '4'\n",
    "    [0,0,0,0,0,0,1,0,1,0],  # '5'\n",
    "    [0,0,0,0,0,0,1,1,1,0],  # '6'\n",
    "    [0,0,0,0,0,0,1,1,1,1],  # '7'\n",
    "    [0,0,0,0,0,0,1,0,1,1],  # '8'\n",
    "    [0,0,0,0,0,0,0,1,1,1],  # '9'\n",
    "])\n",
    "\n",
    "# Labels: even→0, odd→1\n",
    "Y = np.array([0, 1, 0, 1, 0, 1, 0, 1, 0, 1])\n",
    "\n",
    "# Instantiate and train\n",
    "perceptron = Perceptron(input_size=10)\n",
    "perceptron.train(X, Y, epochs=100)  # Training for 100 epochs :contentReference[oaicite:0]{index=0}:contentReference[oaicite:1]{index=1}\n",
    "\n",
    "# Test on the same inputs\n",
    "for x in X:\n",
    "    y = perceptron.predict(x)\n",
    "    print(f'{x} → {\"even\" if y == 0 else \"odd\"}')  # Testing outputs :contentReference[oaicite:2]{index=2}:contentReference[oaicite:3]{index=3}\n"
   ]
  },
  {
   "cell_type": "code",
   "execution_count": null,
   "id": "4615896a-ebc2-46ca-8daa-289deb00197e",
   "metadata": {},
   "outputs": [],
   "source": []
  }
 ],
 "metadata": {
  "kernelspec": {
   "display_name": "Python 3 (ipykernel)",
   "language": "python",
   "name": "python3"
  },
  "language_info": {
   "codemirror_mode": {
    "name": "ipython",
    "version": 3
   },
   "file_extension": ".py",
   "mimetype": "text/x-python",
   "name": "python",
   "nbconvert_exporter": "python",
   "pygments_lexer": "ipython3",
   "version": "3.12.10"
  }
 },
 "nbformat": 4,
 "nbformat_minor": 5
}
