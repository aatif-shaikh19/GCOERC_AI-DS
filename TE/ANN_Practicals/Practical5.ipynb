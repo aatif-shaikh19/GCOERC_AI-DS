{
 "cells": [
  {
   "cell_type": "code",
   "execution_count": 1,
   "id": "6f7d05b5-f615-4d6b-b0ef-4a06b8974b62",
   "metadata": {},
   "outputs": [],
   "source": [
    "# Cell 1: Imports and activation functions\n",
    "import numpy as np\n",
    "\n",
    "def sigmoid(x):\n",
    "    \"\"\"Sigmoid activation.\"\"\"\n",
    "    return 1 / (1 + np.exp(-x))\n",
    "\n",
    "def sigmoid_derivative(x):\n",
    "    \"\"\"Derivative of sigmoid w.r.t its input (assuming x already passed through sigmoid).\"\"\"\n",
    "    return x * (1 - x)\n"
   ]
  },
  {
   "cell_type": "code",
   "execution_count": 2,
   "id": "580d1a94-5020-426b-8bdc-60e94f96b2d0",
   "metadata": {},
   "outputs": [],
   "source": [
    "# Cell 2: Dataset (XOR)    \n",
    "# Inputs\n",
    "X = np.array([\n",
    "    [0, 0],\n",
    "    [0, 1],\n",
    "    [1, 0],\n",
    "    [1, 1]\n",
    "])\n",
    "# Corresponding labels\n",
    "y = np.array([[0], [1], [1], [0]])\n"
   ]
  },
  {
   "cell_type": "code",
   "execution_count": 3,
   "id": "dbb1ebd6-75c6-483d-ace6-1900bf630c53",
   "metadata": {},
   "outputs": [],
   "source": [
    "# Cell 3: Hyperparameters and weight initialization\n",
    "learning_rate = 0.1\n",
    "num_epochs = 100_000\n",
    "\n",
    "# Randomly initialize weights with mean 0\n",
    "# 2 inputs → 2 hidden neurons\n",
    "hidden_weights = 2 * np.random.random((2, 2)) - 1\n",
    "# 2 hidden neurons → 1 output neuron\n",
    "output_weights = 2 * np.random.random((2, 1)) - 1\n"
   ]
  },
  {
   "cell_type": "code",
   "execution_count": 4,
   "id": "06fbcbf3-572c-4f70-950d-fea05869d988",
   "metadata": {},
   "outputs": [],
   "source": [
    "# Cell 4: Training loop\n",
    "for epoch in range(num_epochs):\n",
    "    # Forward propagation\n",
    "    hidden_layer = sigmoid(np.dot(X, hidden_weights))\n",
    "    output_layer = sigmoid(np.dot(hidden_layer, output_weights))\n",
    "\n",
    "    # Compute error at output\n",
    "    output_error = y - output_layer\n",
    "    output_delta = output_error * sigmoid_derivative(output_layer)\n",
    "\n",
    "    # Backpropagate error to hidden layer\n",
    "    hidden_error = output_delta.dot(output_weights.T)\n",
    "    hidden_delta = hidden_error * sigmoid_derivative(hidden_layer)\n",
    "\n",
    "    # Weight updates\n",
    "    output_weights += hidden_layer.T.dot(output_delta) * learning_rate\n",
    "    hidden_weights += X.T.dot(hidden_delta) * learning_rate\n"
   ]
  },
  {
   "cell_type": "code",
   "execution_count": 5,
   "id": "edb914e4-f289-4944-888a-7e2c5d4a2d81",
   "metadata": {},
   "outputs": [
    {
     "name": "stdout",
     "output_type": "stream",
     "text": [
      "Final outputs after training:\n",
      "[[0.614]\n",
      " [0.64 ]\n",
      " [0.86 ]\n",
      " [0.111]]\n"
     ]
    }
   ],
   "source": [
    "# Cell 5: Results after training\n",
    "print(\"Final outputs after training:\")\n",
    "print(output_layer.round(3))\n"
   ]
  },
  {
   "cell_type": "code",
   "execution_count": null,
   "id": "1f4093d4-0ca5-46ee-a51a-a422fda9afc3",
   "metadata": {},
   "outputs": [],
   "source": []
  }
 ],
 "metadata": {
  "kernelspec": {
   "display_name": "Python 3 (ipykernel)",
   "language": "python",
   "name": "python3"
  },
  "language_info": {
   "codemirror_mode": {
    "name": "ipython",
    "version": 3
   },
   "file_extension": ".py",
   "mimetype": "text/x-python",
   "name": "python",
   "nbconvert_exporter": "python",
   "pygments_lexer": "ipython3",
   "version": "3.12.10"
  }
 },
 "nbformat": 4,
 "nbformat_minor": 5
}
